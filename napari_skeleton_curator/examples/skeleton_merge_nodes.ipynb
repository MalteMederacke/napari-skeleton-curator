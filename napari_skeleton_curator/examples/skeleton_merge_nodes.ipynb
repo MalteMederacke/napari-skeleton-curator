{
 "cells": [
  {
   "cell_type": "code",
   "execution_count": 1,
   "id": "e7dceb88",
   "metadata": {},
   "outputs": [],
   "source": [
    "from typing import List, Tuple\n",
    "\n",
    "from morphosamplers.spline import Spline3D\n",
    "import napari\n",
    "import networkx as nx\n",
    "import numpy as np\n",
    "from scipy.ndimage import map_coordinates\n",
    "\n",
    "\n",
    "from skeleton import Skeleton3D, merge_nodes\n",
    "from skeleton import EDGE_COORDINATES_KEY, EDGE_SPLINE_KEY, NODE_COORDINATE_KEY, EDGE_FEATURES_START_NODE_KEY, EDGE_FEATURES_END_NODE_KEY\n",
    "\n",
    "from skeleton import SkeletonViewer"
   ]
  },
  {
   "cell_type": "code",
   "execution_count": 2,
   "id": "1a392b64",
   "metadata": {},
   "outputs": [],
   "source": [
    "node_coordinates = np.array(\n",
    "    [\n",
    "        [10, 25, 25],\n",
    "        [20, 25, 25],\n",
    "        [40, 35, 25],\n",
    "        [40, 15, 25],\n",
    "        [40, 30, 30],\n",
    "        [20, 45, 45],\n",
    "        [20, 15, 15]\n",
    "    ]\n",
    ")\n",
    "\n",
    "edges = [\n",
    "    (0, 1),\n",
    "    (1, 2),\n",
    "    (1, 3),\n",
    "    (4, 5),\n",
    "    (6, 4)\n",
    "]\n",
    "\n",
    "\n",
    "skeleton_graph = nx.Graph(edges)"
   ]
  },
  {
   "cell_type": "code",
   "execution_count": 3,
   "id": "99a88fd2",
   "metadata": {},
   "outputs": [],
   "source": [
    "def _paint_images_from_coordinates_list(\n",
    "    image: np.ndarray,\n",
    "    coordinates_to_paint: np.ndarray,\n",
    "    fill_value: float = 1\n",
    "):\n",
    "    # must be 3D image and coordinates\n",
    "    assert image.ndim == 3\n",
    "    assert coordinates_to_paint.shape[1] == 3\n",
    "    \n",
    "    image[\n",
    "        coordinates_to_paint[:, 0],\n",
    "        coordinates_to_paint[:, 1],\n",
    "        coordinates_to_paint[:, 2],\n",
    "    ] = fill_value\n",
    "    \n",
    "    return image\n",
    "\n",
    "\n",
    "def _get_coordinantes_in_branch(\n",
    "    start_point: np.ndarray,\n",
    "    end_point: np.ndarray\n",
    "    \n",
    ") -> np.ndarray:\n",
    "    # we oversample the line to make sure it is continuous\n",
    "    line_length = np.linalg.norm(end_point - start_point)\n",
    "    n_skeleton_points = 2 * int(line_length)\n",
    "    \n",
    "    coordinates = np.linspace(\n",
    "        start_point,\n",
    "        end_point,\n",
    "        n_skeleton_points\n",
    "    ).astype(int)\n",
    "    \n",
    "    # return the unique coordinates\n",
    "    unique_coordinates, unique_indices = np.unique(coordinates, axis=0, return_index=True)\n",
    "    return unique_coordinates[np.argsort(unique_indices)] \n",
    "\n",
    "\n",
    "\n",
    "def make_skeleton_image(\n",
    "    node_coordinates: np.ndarray,\n",
    "    edge_list: List[Tuple[int, int]],\n",
    "    image_shape: Tuple[int, int, int]\n",
    ") -> Tuple[np.ndarray, List[np.ndarray]]:\n",
    "    \n",
    "    image = np.zeros(image_shape)\n",
    "    \n",
    "    # get the coordinates of the points on the edges\n",
    "    coordinates = [\n",
    "        _get_coordinantes_in_branch(\n",
    "            node_coordinates[start_index],\n",
    "            node_coordinates[end_index],\n",
    "        )\n",
    "        for start_index, end_index in edge_list\n",
    "    ]\n",
    "    # paint the edges\n",
    "    image = _paint_images_from_coordinates_list(\n",
    "        image=image,\n",
    "        coordinates_to_paint=np.concatenate(coordinates)\n",
    "    )\n",
    "    \n",
    "    return image, coordinates"
   ]
  },
  {
   "cell_type": "code",
   "execution_count": 4,
   "id": "56a282b8",
   "metadata": {},
   "outputs": [],
   "source": [
    "skeleton_image, edge_coordinates = make_skeleton_image(\n",
    "    node_coordinates=node_coordinates,\n",
    "    edge_list=edges,\n",
    "    image_shape=(50, 50, 50)\n",
    ")"
   ]
  },
  {
   "cell_type": "code",
   "execution_count": 5,
   "id": "dc1695b2",
   "metadata": {},
   "outputs": [],
   "source": [
    "edge_properties = {}\n",
    "for edge, coordinates in zip(edges, edge_coordinates):\n",
    "    spline = Spline3D(points=coordinates)\n",
    "    \n",
    "    edge_properties.update(\n",
    "        {\n",
    "            edge: {\n",
    "                EDGE_COORDINATES_KEY: coordinates,\n",
    "                EDGE_SPLINE_KEY: spline,\n",
    "                EDGE_FEATURES_START_NODE_KEY: edge[0],\n",
    "                EDGE_FEATURES_END_NODE_KEY: edge[1]\n",
    "            }\n",
    "        }\n",
    "    )\n",
    "\n",
    "nx.set_edge_attributes(skeleton_graph, edge_properties)"
   ]
  },
  {
   "cell_type": "code",
   "execution_count": 6,
   "id": "f7cc4643",
   "metadata": {},
   "outputs": [],
   "source": [
    "nx.set_edge_attributes(\n",
    "    skeleton_graph,\n",
    "    {\n",
    "        (0, 1): {\"validated\": False}\n",
    "    }\n",
    ")"
   ]
  },
  {
   "cell_type": "code",
   "execution_count": 7,
   "id": "42512f18",
   "metadata": {},
   "outputs": [],
   "source": [
    "node_properties = {}\n",
    "\n",
    "for node_index, coordinate in enumerate(node_coordinates):\n",
    "    node_properties.update(\n",
    "        {\n",
    "            node_index: {\n",
    "                NODE_COORDINATE_KEY: coordinate\n",
    "            }\n",
    "        }\n",
    "    )\n",
    "nx.set_node_attributes(skeleton_graph, node_properties)"
   ]
  },
  {
   "cell_type": "code",
   "execution_count": 8,
   "id": "4ccc9b46",
   "metadata": {},
   "outputs": [
    {
     "name": "stderr",
     "output_type": "stream",
     "text": [
      "/Users/kyamauch/mambaforge/envs/morphometrics/lib/python3.9/site-packages/morphometrics_engine/measure.py:4: TqdmWarning: IProgress not found. Please update jupyter and ipywidgets. See https://ipywidgets.readthedocs.io/en/stable/user_install.html\n",
      "  from tqdm.autonotebook import tqdm\n"
     ]
    }
   ],
   "source": [
    "viewer = napari.Viewer()\n"
   ]
  },
  {
   "cell_type": "code",
   "execution_count": 9,
   "id": "109ca912",
   "metadata": {},
   "outputs": [
    {
     "data": {
      "text/plain": [
       "<Image layer 'skeleton_image' at 0x1619812b0>"
      ]
     },
     "execution_count": 9,
     "metadata": {},
     "output_type": "execute_result"
    }
   ],
   "source": [
    "viewer.add_image(skeleton_image, scale=(1, 2, 1))"
   ]
  },
  {
   "cell_type": "code",
   "execution_count": 10,
   "id": "64232eed",
   "metadata": {},
   "outputs": [],
   "source": [
    "skeleton = Skeleton3D.parse(\n",
    "    graph=skeleton_graph,\n",
    "    edge_attributes={\"validated\": True},\n",
    "    edge_coordinates_key=\"edge_coordinates\",\n",
    "    node_coordinate_key=\"node_coordinate\",\n",
    "    scale=(1, 2, 1)\n",
    ")\n",
    "\n",
    "# verify that the graph is a copy\n",
    "assert skeleton.graph is not skeleton_graph\n"
   ]
  },
  {
   "cell_type": "code",
   "execution_count": 11,
   "id": "92b76f8f",
   "metadata": {},
   "outputs": [],
   "source": [
    "# merge nodes 2 and 4 using the model\n",
    "skeleton.merge_nodes(node_to_keep=2, node_to_merge=4)"
   ]
  },
  {
   "cell_type": "code",
   "execution_count": 12,
   "id": "5941f69c",
   "metadata": {},
   "outputs": [],
   "source": [
    "# make the skeleton viewer\n",
    "skeleton_viewer = SkeletonViewer(skeleton=skeleton, viewer=viewer, image=skeleton_image)\n",
    "\n",
    "# set the size of the node points\n",
    "skeleton_viewer.node_size = 3"
   ]
  },
  {
   "cell_type": "code",
   "execution_count": 13,
   "id": "313f2716",
   "metadata": {},
   "outputs": [
    {
     "data": {
      "text/html": [
       "<div>\n",
       "<style scoped>\n",
       "    .dataframe tbody tr th:only-of-type {\n",
       "        vertical-align: middle;\n",
       "    }\n",
       "\n",
       "    .dataframe tbody tr th {\n",
       "        vertical-align: top;\n",
       "    }\n",
       "\n",
       "    .dataframe thead th {\n",
       "        text-align: right;\n",
       "    }\n",
       "</style>\n",
       "<table border=\"1\" class=\"dataframe\">\n",
       "  <thead>\n",
       "    <tr style=\"text-align: right;\">\n",
       "      <th></th>\n",
       "      <th>start_node</th>\n",
       "      <th>end_node</th>\n",
       "      <th>validated</th>\n",
       "      <th>highlight</th>\n",
       "    </tr>\n",
       "  </thead>\n",
       "  <tbody>\n",
       "    <tr>\n",
       "      <th>0</th>\n",
       "      <td>0</td>\n",
       "      <td>1</td>\n",
       "      <td>False</td>\n",
       "      <td>False</td>\n",
       "    </tr>\n",
       "    <tr>\n",
       "      <th>1</th>\n",
       "      <td>1</td>\n",
       "      <td>2</td>\n",
       "      <td>True</td>\n",
       "      <td>False</td>\n",
       "    </tr>\n",
       "    <tr>\n",
       "      <th>2</th>\n",
       "      <td>1</td>\n",
       "      <td>3</td>\n",
       "      <td>True</td>\n",
       "      <td>False</td>\n",
       "    </tr>\n",
       "    <tr>\n",
       "      <th>3</th>\n",
       "      <td>2</td>\n",
       "      <td>5</td>\n",
       "      <td>True</td>\n",
       "      <td>False</td>\n",
       "    </tr>\n",
       "    <tr>\n",
       "      <th>4</th>\n",
       "      <td>2</td>\n",
       "      <td>6</td>\n",
       "      <td>True</td>\n",
       "      <td>False</td>\n",
       "    </tr>\n",
       "  </tbody>\n",
       "</table>\n",
       "</div>"
      ],
      "text/plain": [
       "   start_node  end_node  validated  highlight\n",
       "0           0         1      False      False\n",
       "1           1         2       True      False\n",
       "2           1         3       True      False\n",
       "3           2         5       True      False\n",
       "4           2         6       True      False"
      ]
     },
     "execution_count": 13,
     "metadata": {},
     "output_type": "execute_result"
    }
   ],
   "source": [
    "skeleton_viewer.edges_layer.features"
   ]
  },
  {
   "cell_type": "code",
   "execution_count": 14,
   "id": "03408a0c",
   "metadata": {},
   "outputs": [
    {
     "data": {
      "text/html": [
       "<div>\n",
       "<style scoped>\n",
       "    .dataframe tbody tr th:only-of-type {\n",
       "        vertical-align: middle;\n",
       "    }\n",
       "\n",
       "    .dataframe tbody tr th {\n",
       "        vertical-align: top;\n",
       "    }\n",
       "\n",
       "    .dataframe thead th {\n",
       "        text-align: right;\n",
       "    }\n",
       "</style>\n",
       "<table border=\"1\" class=\"dataframe\">\n",
       "  <thead>\n",
       "    <tr style=\"text-align: right;\">\n",
       "      <th></th>\n",
       "      <th>node_index</th>\n",
       "      <th>contraction</th>\n",
       "    </tr>\n",
       "  </thead>\n",
       "  <tbody>\n",
       "    <tr>\n",
       "      <th>0</th>\n",
       "      <td>0</td>\n",
       "      <td>NaN</td>\n",
       "    </tr>\n",
       "    <tr>\n",
       "      <th>1</th>\n",
       "      <td>1</td>\n",
       "      <td>NaN</td>\n",
       "    </tr>\n",
       "    <tr>\n",
       "      <th>2</th>\n",
       "      <td>2</td>\n",
       "      <td>{4: {'node_coordinate': [40, 60, 30]}}</td>\n",
       "    </tr>\n",
       "    <tr>\n",
       "      <th>3</th>\n",
       "      <td>3</td>\n",
       "      <td>NaN</td>\n",
       "    </tr>\n",
       "    <tr>\n",
       "      <th>4</th>\n",
       "      <td>5</td>\n",
       "      <td>NaN</td>\n",
       "    </tr>\n",
       "    <tr>\n",
       "      <th>5</th>\n",
       "      <td>6</td>\n",
       "      <td>NaN</td>\n",
       "    </tr>\n",
       "  </tbody>\n",
       "</table>\n",
       "</div>"
      ],
      "text/plain": [
       "   node_index                             contraction\n",
       "0           0                                     NaN\n",
       "1           1                                     NaN\n",
       "2           2  {4: {'node_coordinate': [40, 60, 30]}}\n",
       "3           3                                     NaN\n",
       "4           5                                     NaN\n",
       "5           6                                     NaN"
      ]
     },
     "execution_count": 14,
     "metadata": {},
     "output_type": "execute_result"
    }
   ],
   "source": [
    "skeleton_viewer.nodes_layer.features"
   ]
  },
  {
   "cell_type": "markdown",
   "id": "dbd04a09",
   "metadata": {},
   "source": [
    "## merging nodes with the viewer\n",
    "\n",
    "you can also use the \"merge nodes\" widget to merge nodes by specifying the \"node to keep\" and \"node to merge\" in the UI and pressing the \"merge nodes\" button;"
   ]
  },
  {
   "cell_type": "code",
   "execution_count": null,
   "id": "c5549696",
   "metadata": {},
   "outputs": [],
   "source": []
  }
 ],
 "metadata": {
  "kernelspec": {
   "display_name": "Python 3 (ipykernel)",
   "language": "python",
   "name": "python3"
  },
  "language_info": {
   "codemirror_mode": {
    "name": "ipython",
    "version": 3
   },
   "file_extension": ".py",
   "mimetype": "text/x-python",
   "name": "python",
   "nbconvert_exporter": "python",
   "pygments_lexer": "ipython3",
   "version": "3.9.15"
  }
 },
 "nbformat": 4,
 "nbformat_minor": 5
}
